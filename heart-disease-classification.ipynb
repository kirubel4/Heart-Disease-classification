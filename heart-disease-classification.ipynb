{
 "cells": [
  {
   "cell_type": "markdown",
   "id": "d4ed9a00-efae-491d-800b-2b45a80b8512",
   "metadata": {},
   "source": [
    "## Predicting heart disease using machine learning\n",
    "\n",
    "This notebook looks into using various python-based machine learning and data science\n",
    "libraries in an attempt to build a machine learning model capable of predicting\n",
    "whether or not sosmeone has heart on their medical attributes.\n",
    "we're going to take the following approach:\n",
    "1. Problem definition\n",
    "2. Data\n",
    "3. Evaluation\n",
    "4. Features\n",
    "5. Modeling\n",
    "6. Experimentaion\n",
    "## 1. Problem Defination"
   ]
  },
  {
   "cell_type": "code",
   "execution_count": null,
   "id": "14c6ac5a-6d2e-4f24-9528-fed7e02362c1",
   "metadata": {},
   "outputs": [],
   "source": []
  }
 ],
 "metadata": {
  "kernelspec": {
   "display_name": "Python 3 (ipykernel)",
   "language": "python",
   "name": "python3"
  },
  "language_info": {
   "codemirror_mode": {
    "name": "ipython",
    "version": 3
   },
   "file_extension": ".py",
   "mimetype": "text/x-python",
   "name": "python",
   "nbconvert_exporter": "python",
   "pygments_lexer": "ipython3",
   "version": "3.10.18"
  }
 },
 "nbformat": 4,
 "nbformat_minor": 5
}
